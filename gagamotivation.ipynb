{
  "nbformat": 4,
  "nbformat_minor": 0,
  "metadata": {
    "colab": {
      "provenance": []
    },
    "kernelspec": {
      "name": "python3",
      "display_name": "Python 3"
    },
    "language_info": {
      "name": "python"
    }
  },
  "cells": [
    {
      "cell_type": "code",
      "source": [
        "!pip install -U yt-dlp\n",
        "!apt install ffmpeg -y\n"
      ],
      "metadata": {
        "id": "FcHxb7JsE7Bz",
        "colab": {
          "base_uri": "https://localhost:8080/"
        },
        "collapsed": true,
        "outputId": "f8f5da4e-ee63-4d19-b687-42e86419fd8b"
      },
      "execution_count": null,
      "outputs": [
        {
          "output_type": "stream",
          "name": "stdout",
          "text": [
            "Requirement already satisfied: yt-dlp in /usr/local/lib/python3.11/dist-packages (2025.4.30)\n",
            "Reading package lists... Done\n",
            "Building dependency tree... Done\n",
            "Reading state information... Done\n",
            "ffmpeg is already the newest version (7:4.4.2-0ubuntu0.22.04.1).\n",
            "0 upgraded, 0 newly installed, 0 to remove and 34 not upgraded.\n"
          ]
        }
      ]
    },
    {
      "cell_type": "code",
      "source": [
        "import yt_dlp\n",
        "\n",
        "def gagamotivation(link):\n",
        "    ydl_opts = {\n",
        "        'format': 'bestaudio/best',  #melhor qualidade pro audio\n",
        "        'outtmpl': 'gagamotivation.%(ext)s', #aqui ele vai salvar ou em formato original ou no formato que eu escolher\n",
        "        'postprocessors': [{\n",
        "            'key': 'FFmpegExtractAudio', # extrai so o audio do arquivo\n",
        "            'preferredcodec': 'mp3', # aqui eu determino pra qual tipo vou converter\n",
        "            'preferredquality': '192', # a qualidade em kbps\n",
        "        }],\n",
        "    }\n",
        "\n",
        "    with yt_dlp.YoutubeDL(ydl_opts) as ydl:  #ferramenta do ydl para gerenciar os downloards com oq foi definido\n",
        "        ydl.download([link]) #inica o download\n",
        "\n",
        "# Entrada do usuário\n",
        "link = input(\"Teu som de despertador, monster: \") #a pessoa queride coloca o link e o wonload inicia automaticamente\n",
        "gagamotivation(link)\n"
      ],
      "metadata": {
        "id": "SgcNiQQwE6_D"
      },
      "execution_count": null,
      "outputs": []
    },
    {
      "cell_type": "code",
      "source": [
        "import yt_dlp\n",
        "def gagamotivation(link):\n",
        "    ydl_opts = {\n",
        "        'format' : 'bestaudio/best',\n",
        "        'outtmpl' : 'gagamotivation.%(ext)s',\n",
        "        'postprocessors': [{\n",
        "         'key' :'FFmpegExtractAudio',\n",
        "         'preferredcodec' :'wav',\n",
        "\n",
        "        }],\n",
        "\n",
        "    }\n",
        "\n",
        "    with yt_dlp.YoutubeDL(ydl_opts) as ydl:\n",
        "      ydl.download([link])\n",
        "\n",
        "\n",
        "link = input(' Com que som gaga te acorda? : ')\n",
        "gagamotivation(link)\n",
        "\n"
      ],
      "metadata": {
        "collapsed": true,
        "id": "OgxkoKyqJ409"
      },
      "execution_count": null,
      "outputs": []
    },
    {
      "cell_type": "code",
      "source": [
        "from google.colab import files\n",
        "files.download('gagamotivation.wav')\n"
      ],
      "metadata": {
        "id": "R6j1EbauFJZa"
      },
      "execution_count": null,
      "outputs": []
    }
  ]
}